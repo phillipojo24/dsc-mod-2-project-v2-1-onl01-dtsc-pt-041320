{
 "cells": [
  {
   "cell_type": "markdown",
   "metadata": {},
   "source": [
    "# Housing Market in King County\n",
    "\n",
    "## Problem Statement:\n",
    "\n",
    "As a Junior Data Scientist, I have been tasked with investigating house sales in the King County area and building a model to suggest home improvements in order to increase house value.\n",
    "\n",
    "The following questions will be answered in this project:\n",
    "\n",
    "* Which feature generates the best model, zip codes or sub regions?\n",
    "\n",
    "* Does transforming the target value improve model efficiency?\n",
    "\n",
    "* Which house attributes have a high impact in sale price and which attributes have the least/negative impact?"
   ]
  },
  {
   "cell_type": "markdown",
   "metadata": {},
   "source": [
    "# Components:\n",
    "\n",
    "* Jupyter Notebook - A well documented Jupyter Notebook containing any code I've written for this project and comments explaining it.\n",
    "\n",
    "* Presentation - Short PowerPoint presentation, delivered as a PDF export, giving a high-level overview of your methodology and recommendations for non-technical stakeholders.\n",
    "\n",
    "* Blog Post - Blog post found on this link (https://phillipojo24.github.io/linear_regression_model)\n",
    "\n",
    "* Data - King County house sales dataset named 'kc_house_data.csv' and King County subregion by zipcode named 'SubRegZipCityNeighborhood.xlsx'"
   ]
  },
  {
   "cell_type": "markdown",
   "metadata": {},
   "source": [
    "# Methodology:\n",
    "On this project, the OSEMiN data science workflow was adopted.\n",
    "\n",
    "OBTAIN - Understanding stakeholder requirements and sourcing data.\n",
    "\n",
    "SCRUB - Identifying and removing null values, dealing with outliers, normalizing data, and feature engineering/feature selection\n",
    "\n",
    "EXPLORE - Create visualizations to really get a feel for your dataset.\n",
    "\n",
    "MODEL - Building and tuning models.\n",
    "\n",
    "INTERPRET - Interpret the results of your model(s), and communicate results to stakeholders."
   ]
  },
  {
   "cell_type": "markdown",
   "metadata": {},
   "source": [
    "# Project Summary:"
   ]
  },
  {
   "cell_type": "markdown",
   "metadata": {},
   "source": [
    "# Question 1 - Does the number of bedrooms have an high affect on sale price?\n"
   ]
  },
  {
   "cell_type": "markdown",
   "metadata": {},
   "source": [
    "# Question 2 - Does the diffrenece in Zipcode affect sale price?\n"
   ]
  },
  {
   "cell_type": "markdown",
   "metadata": {},
   "source": [
    "# Question 3 - Which features have a high impact on sales price?"
   ]
  },
  {
   "cell_type": "code",
   "execution_count": null,
   "metadata": {},
   "outputs": [],
   "source": []
  }
 ],
 "metadata": {
  "language_info": {
   "codemirror_mode": {
    "name": "ipython",
    "version": 3
   },
   "file_extension": ".py",
   "mimetype": "text/x-python",
   "name": "python",
   "nbconvert_exporter": "python",
   "pygments_lexer": "ipython3",
   "version": 3
  },
  "orig_nbformat": 2
 },
 "nbformat": 4,
 "nbformat_minor": 2
}