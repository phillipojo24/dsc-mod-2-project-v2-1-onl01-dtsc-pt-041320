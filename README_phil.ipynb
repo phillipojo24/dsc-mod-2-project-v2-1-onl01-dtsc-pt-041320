{
 "cells": [
  {
   "cell_type": "markdown",
   "metadata": {},
   "source": [
    "# Housing Market in King County\n",
    "\n",
    "## Problem Statement:\n",
    "\n",
    "As a Junior Data Scientist, I have been tasked with investigating house sales in the King County area and building a model to suggest home improvements in order to increase house value.\n",
    "\n",
    "The following questions will be answered in this project:\n",
    "\n",
    "* Which feature generates the best model, zip codes or sub regions?\n",
    "\n",
    "* Does transforming the target value improve model efficiency?\n",
    "\n",
    "* Which house attributes have a high impact in sale price and which attributes have the least/negative impact?"
   ]
  },
  {
   "cell_type": "markdown",
   "metadata": {},
   "source": [
    "# Components:\n",
    "\n",
    "* Jupyter Notebook - A well documented Jupyter Notebook containing any code I've written for this project and comments explaining it.\n",
    "\n",
    "* Presentation - Short PowerPoint presentation, delivered as a PDF export, giving a high-level overview of your methodology and recommendations for non-technical stakeholders.\n",
    "\n",
    "* Blog Post - Blog post found on this link (https://phillipojo24.github.io/linear_regression_model)\n",
    "\n",
    "* Data - King County house sales dataset named 'kc_house_data.csv' and King County subregion by zipcode named 'SubRegZipCityNeighborhood.xlsx'"
   ]
  },
  {
   "cell_type": "markdown",
   "metadata": {},
   "source": [
    "# Methodology:\n",
    "On this project, the OSEMiN data science workflow was adopted.\n",
    "\n",
    "OBTAIN - Understanding stakeholder requirements and sourcing data.\n",
    "\n",
    "SCRUB - Identifying and removing null values, dealing with outliers, normalizing data, and feature engineering/feature selection\n",
    "\n",
    "EXPLORE - Create visualizations to really get a feel for your dataset.\n",
    "\n",
    "MODEL - Building and tuning models.\n",
    "\n",
    "INTERPRET - Interpret the results of your model(s), and communicate results to stakeholders."
   ]
  },
  {
   "cell_type": "markdown",
   "metadata": {},
   "source": [
    "# Project Summary:"
   ]
  },
  {
   "cell_type": "markdown",
   "metadata": {},
   "source": [
    "# Question 1 - Does the number of bedrooms have an high affect on sale price?\n",
    "\n",
    "Intuitivly, looking at houses we assume that more bedrooms make the house more expensive. However after going through the data we see that this is not true. One-hot encoded the bedrooms to capture the categorical data.  "
   ]
  },
  {
   "cell_type": "markdown",
   "metadata": {},
   "source": [
    "\" <img src= \"https://raw.githubusercontent.com/phillipojo24/dsc-mod-2-project-v2-1-onl01-dtsc-pt-041320/master/Screen%20Shot%202020-08-17%20at%207.31.14%20PM.png\">"
   ]
  },
  {
   "cell_type": "markdown",
   "metadata": {},
   "source": [
    "### Conclusion - One-hot encoding the bedroom column did not improve the model and we can clearly see by the results that the number of bedrooms does have a highly negative affect on price."
   ]
  },
  {
   "cell_type": "markdown",
   "metadata": {},
   "source": [
    "# Question 2 - Does the diffrenece in Zipcode affect sale price?\n",
    "\n",
    "With the man diffrent zipcode values, we assumed that it will negativly affect the model. This prompted us to create Sub-Regions and group the zipcode into regions. However, this did not actually improve the model. "
   ]
  },
  {
   "cell_type": "markdown",
   "metadata": {},
   "source": [
    "### Conclusion- Grouping the zipcode into sub regions gives us a better idea and which areas will increase sale price. Two stand out sub regoins are East Urban and Seattle. However, one-hot encoding the diffrent zipcode improved the model."
   ]
  },
  {
   "cell_type": "markdown",
   "metadata": {},
   "source": [
    "# Question 3 - Which features have a high impact on sales price?\n",
    "\n",
    "By standardizing the data, we are able to see the weight of each feature and how they affect price."
   ]
  },
  {
   "cell_type": "markdown",
   "metadata": {},
   "source": [
    "### Conclusion - From the results of our model, you can see that the least significant features are \"Bedrooms\" , \"Bathrooms\", and \"Sqft of Lot\". Most significant features are \"Sqft Living\", \"View\", \"grade\", and \"floors\". As a homeowner, if you want to increase the value of your house you should\n",
    "\n",
    "    *Increase the living square footage of the house.\n",
    "    *Imporve the overall grade of the house.\n",
    "    *Add a new floor."
   ]
  },
  {
   "cell_type": "markdown",
   "metadata": {},
   "source": [
    "# Conclusion"
   ]
  },
  {
   "cell_type": "markdown",
   "metadata": {},
   "source": [
    "## Question 1\n",
    "\n",
    "* The number of bedrooms did not seem to affect the sale price. However for a given house depending on its square-footage, note that adding an additional bedroom does not necessarily result in a a sale price increase. \n"
   ]
  },
  {
   "cell_type": "markdown",
   "metadata": {},
   "source": [
    "## Question 2\n",
    "\n",
    "* Grouping the zip codes into regions did not improve the model. However, by using the zip codes instead of the sub regions the model dramtically increased. Future analsis will invole seeing how the prices of house that are located to major sporting venues affect price."
   ]
  },
  {
   "cell_type": "markdown",
   "metadata": {},
   "source": [
    "## Question 3\n",
    "\n",
    "* Based on the Regression Model, \n",
    "    * Don'ts\n",
    "        * Adding a new bedroom does not guarantee that the house value will increase\n",
    "        * Adding a new bathroom does not guarantee that the house value will increase\n",
    "    \n",
    "    * Do's\n",
    "        * Increase the living square footage of the house.\n",
    "        * Improve the overall grade of the house."
   ]
  },
  {
   "cell_type": "code",
   "execution_count": null,
   "metadata": {},
   "outputs": [],
   "source": []
  }
 ],
 "metadata": {
  "language_info": {
   "codemirror_mode": {
    "name": "ipython",
    "version": 3
   },
   "file_extension": ".py",
   "mimetype": "text/x-python",
   "name": "python",
   "nbconvert_exporter": "python",
   "pygments_lexer": "ipython3",
   "version": 3
  },
  "orig_nbformat": 2
 },
 "nbformat": 4,
 "nbformat_minor": 2
}